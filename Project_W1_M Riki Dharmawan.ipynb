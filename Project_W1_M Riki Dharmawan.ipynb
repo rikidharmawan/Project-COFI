{
 "cells": [
  {
   "cell_type": "markdown",
   "metadata": {
    "id": "gVVGjd4mZWOS"
   },
   "source": [
    "## Question No. 1 \n",
    "Buatlah sebuah program untuk melakukan pendataan penduduk dari NIK untuk mengetahui Umur dan Jenis Kelamin\n",
    "\n",
    "*Note:*\n",
    "- Untuk **PRIA** tanggal lahirnya memiliki format dd-mm-yy\n",
    "- Untuk **WANITA** tanggal lahirnya memiliki format (dd+40) - mm - yy\n",
    "\n",
    "`EXAMPLE 1`:\n",
    "\n",
    "Input:\n",
    "\n",
    "> 3172014212960005\n",
    "\n",
    "Output\n",
    "\n",
    "> Perempuan, 26 (Age)\n",
    "\n",
    "`EXAMPLE 2`:\n",
    "\n",
    "Input:\n",
    "\n",
    "> 3172042211950004\n",
    "\n",
    "Output\n",
    "\n",
    "> Pria, 27"
   ]
  },
  {
   "cell_type": "markdown",
   "metadata": {
    "id": "GiSBqj_WZdLr"
   },
   "source": [
    "### Code"
   ]
  },
  {
   "cell_type": "code",
   "execution_count": 23,
   "metadata": {
    "id": "KNEMQKfAZetc"
   },
   "outputs": [],
   "source": [
    "import datetime\n",
    "from datetime import datetime"
   ]
  },
  {
   "cell_type": "code",
   "execution_count": 28,
   "metadata": {
    "scrolled": true
   },
   "outputs": [
    {
     "name": "stdout",
     "output_type": "stream",
     "text": [
      "3172040202950004\n",
      "Pria 28\n"
     ]
    }
   ],
   "source": [
    "nik = input()\n",
    "nik = str(nik)\n",
    "day = nik[6:8] #ekstrak tanggal\n",
    "month = nik[8:10] #ekstrak bulan\n",
    "year = nik[10:12] #ekstrak tahun\n",
    "today = datetime.now() #ekstrak current time\n",
    "\n",
    "#menentukan kelahiran tahun 2000an atau 1900an \n",
    "if int(year) > 23:\n",
    "    #mengidentifikasi perempuan atau pria\n",
    "    if int(day) > 40:\n",
    "        date = format(str(int(day)-40).zfill(2)) + month + str(19) + year\n",
    "        birth = datetime.strptime(date, '%d%m%Y')\n",
    "        age = int((today - birth).days//365.2425)\n",
    "        print('Perempuan', age)\n",
    "    else:\n",
    "        date = day + month + str(19) + year\n",
    "        birth = datetime.strptime(date, '%d%m%Y')\n",
    "        age = int((today - birth).days//365.2425)\n",
    "        print('Pria', age)\n",
    "else:\n",
    "    #mengidentifikasi perempuan atau pria\n",
    "    if int(day) > 40:\n",
    "        date = format(str(int(day)-40).zfill(2))+nik[8:12]\n",
    "        birth = datetime.strptime(date, '%d%m%y')\n",
    "        age = int((today - birth).days//365.2425)\n",
    "        print('Perempuan', age)\n",
    "    else:\n",
    "        date = nik[6:12]\n",
    "        birth = datetime.strptime(date, '%d%m%y')\n",
    "        age = int((today - birth).days//365.2425)\n",
    "        print('Pria', age)"
   ]
  },
  {
   "cell_type": "markdown",
   "metadata": {},
   "source": [
    "### Ver2.0"
   ]
  },
  {
   "cell_type": "code",
   "execution_count": 15,
   "metadata": {},
   "outputs": [
    {
     "name": "stdout",
     "output_type": "stream",
     "text": [
      "3172040202950004\n",
      "Pria\n"
     ]
    },
    {
     "data": {
      "text/plain": [
       "(None, 28)"
      ]
     },
     "execution_count": 15,
     "metadata": {},
     "output_type": "execute_result"
    }
   ],
   "source": [
    "import datetime\n",
    "from datetime import datetime\n",
    "\n",
    "def profil_nik():\n",
    "    nik = input()\n",
    "    nik = str(nik)\n",
    "    day = nik[6:8] #ekstrak tanggal\n",
    "    month = nik[8:10] #ekstrak bulan\n",
    "    year = nik[10:12] #ekstrak tahun\n",
    "    today = datetime.now() #ekstrak current time\n",
    "    \n",
    "    if int(day) > 40:\n",
    "        date = format(str(int(day)-40).zfill(2))+nik[8:12]\n",
    "        gender = \"Perempuan\"\n",
    "    else:\n",
    "        date = nik[6:12]\n",
    "        gender = \"Pria\"\n",
    "    \n",
    "    birth = datetime.strptime(date, '%d%m%y')\n",
    "    \n",
    "    if birth.year > today.year:\n",
    "        birth.year=birth.year - 100\n",
    "    \n",
    "    age = int((today - birth).days//365.2425)\n",
    "    return gender, age\n",
    "\n",
    "profil_nik()"
   ]
  },
  {
   "cell_type": "markdown",
   "metadata": {
    "id": "DG73DyDIZgXQ"
   },
   "source": [
    "## Bonus Question No. 1\n",
    "\n",
    "Diberikan beberapa data NIK, lalu:\n",
    "- Hitung jumlah data NIK yang tersedia\n",
    "- Hitung jumlah Pria\n",
    "- Hitung jumlah Wanita\n",
    "- Hitung jumlah yang balita (0-5 tahun)\n",
    "- Hitung jumlah yang anak kecil (6-15 tahun)\n",
    "- Hitung jumlah yang remaja (16-24 tahun)\n",
    "- Hitung jumlah yang masa produktif (25-50 tahun)\n",
    "- Hitung jumlah yang pensiun (50-60 tahun)\n",
    "- Hitung jumlah yang lansia (60 ~)"
   ]
  },
  {
   "cell_type": "markdown",
   "metadata": {
    "id": "eyzzIy7tZlYE"
   },
   "source": [
    "### Code"
   ]
  },
  {
   "cell_type": "code",
   "execution_count": 2,
   "metadata": {
    "id": "Qhi0HzspZsN7"
   },
   "outputs": [
    {
     "name": "stdout",
     "output_type": "stream",
     "text": [
      "NIK yang tersedia 10\n",
      "Jumlah pria 6\n",
      "Jumlah perempuan 4\n",
      "Jumlah balita 2\n",
      "Jumlah anak kecil 1\n",
      "Jumlah remaja 2\n",
      "Jumlah yang masa produktif 4\n",
      "Jumlah yang pensiun 0\n",
      "Jumlah lansia 1\n"
     ]
    }
   ],
   "source": [
    "list_nik = ['3172042211950004', '3174070505970002', '3172046409000007', '3172040603060005',\n",
    "            '3172042106610002', '3172467001210009', '3172205712220001', '3172062107130008',\n",
    "            '3172465210820007', '3172462102900004'] #[\"1671082001010006\", \"1671091205000003\", \"3673050404240004\"]\n",
    "\n",
    "#mendefinisikan current time\n",
    "today = datetime.now()\n",
    "#mendefinisikan variabel\n",
    "p,lk,balita,child,teen,produktif,pensiun,lansia=0,0,0,0,0,0,0,0\n",
    "\n",
    "#ekstrak nik dari daftar list\n",
    "for nik in list_nik:\n",
    "    day = nik[6:8]\n",
    "    month = nik[8:10]\n",
    "    year = nik[10:12]\n",
    "    \n",
    "    #menentukan kelahiran tahun 2000an atau 1900an \n",
    "    if int(year) > 23:\n",
    "        #untuk mengidentifikasi perempuan atau pria\n",
    "        if int(day) > 40:\n",
    "            date = format(str(int(day)-40).zfill(2)) + month + str(19) + year\n",
    "            birth = datetime.strptime(date, '%d%m%Y')\n",
    "            age = int((today - birth).days//365.2425) \n",
    "            p+=1\n",
    "        else:\n",
    "            date = day + month + str(19) + year\n",
    "            birth = datetime.strptime(date, '%d%m%Y')\n",
    "            age = int((today - birth).days//365.2425)\n",
    "            lk+=1        \n",
    "    else:\n",
    "        #untuk mengidentifikasi perempuan atau pria\n",
    "        if int(day) > 40:\n",
    "            date = format(str(int(day)-40).zfill(2))+nik[8:12]\n",
    "            birth = datetime.strptime(date, '%d%m%y')\n",
    "            age = int((today - birth).days//365.2425)\n",
    "            p+=1\n",
    "        else:\n",
    "            date = nik[6:12]\n",
    "            birth = datetime.strptime(date, '%d%m%y')\n",
    "            age = int((today - birth).days//365.2425)\n",
    "            lk+=1\n",
    "            \n",
    "    #klasifikasi usia\n",
    "    if age <= 5:\n",
    "        balita+=1\n",
    "    elif 6 <= age <= 15:\n",
    "        child+=1\n",
    "    elif 16 <= age <= 24:\n",
    "        teen+=1\n",
    "    elif 25 <= age <= 50:\n",
    "        produktif+=1\n",
    "    elif 50 <= age <= 60:\n",
    "        pensiun+=1\n",
    "    else:\n",
    "        lansia+=1\n",
    "#output\n",
    "print('NIK yang tersedia', len(list_nik))\n",
    "print('Jumlah pria', lk)\n",
    "print('Jumlah perempuan', p)\n",
    "print('Jumlah balita', balita)\n",
    "print('Jumlah anak kecil', child)\n",
    "print('Jumlah remaja', teen)\n",
    "print('Jumlah yang masa produktif', produktif)\n",
    "print('Jumlah yang pensiun', pensiun)\n",
    "print('Jumlah lansia', lansia)"
   ]
  },
  {
   "cell_type": "code",
   "execution_count": 24,
   "metadata": {},
   "outputs": [
    {
     "ename": "SyntaxError",
     "evalue": "EOL while scanning string literal (2899212169.py, line 27)",
     "output_type": "error",
     "traceback": [
      "\u001b[1;36m  File \u001b[1;32m\"C:\\Users\\User\\AppData\\Local\\Temp\\ipykernel_14116\\2899212169.py\"\u001b[1;36m, line \u001b[1;32m27\u001b[0m\n\u001b[1;33m    return f'NIK yang tersedia {l}\u001b[0m\n\u001b[1;37m                                  ^\u001b[0m\n\u001b[1;31mSyntaxError\u001b[0m\u001b[1;31m:\u001b[0m EOL while scanning string literal\n"
     ]
    }
   ],
   "source": [
    "list_nik = ['3172042211950004', '3174070505970002', '3172046409000007', '3172040603060005',\n",
    "            '3172042106610002', '3172467001210009', '3172205712220001', '3172062107130008',\n",
    "            '3172465210820007', '3172462102900004'] #[\"1671082001010006\", \"1671091205000003\", \"3673050404240004\"]\n",
    "\n",
    "def count_nik(x):\n",
    "    woman=man=toddler=tiny=teen=gold=pension=elderly=0\n",
    "    l = len(x)\n",
    "    for nik in x:\n",
    "        gen, age = profil_nik(nik)\n",
    "        if gen == \"Pria\":\n",
    "            man+=1\n",
    "        else:\n",
    "            woman+=1\n",
    "\n",
    "        if age <= 5:\n",
    "            toddler+=1\n",
    "        elif 6 <= age <= 15:\n",
    "            tiny+=1\n",
    "        elif 16 <= age <= 24:\n",
    "            teen+=1\n",
    "        elif 25 <= age <= 50:\n",
    "            gold+=1\n",
    "        elif 50 <= age <= 60:\n",
    "            pension+=1\n",
    "        else:\n",
    "            elderly+=1\n",
    "    return f'NIK yang tersedia {l}\n",
    "            \\nJumlah pria {man}\n",
    "            \\nJumlah perempuan {woman}\n",
    "            \\nJumlah balita {toddler}\n",
    "            \\nJumlah anak kecil {tiny}\n",
    "            \\nJumlah remaja {teen}\n",
    "            \\nJumlah yang masa produktif {gold}\n",
    "            \\nJumlah yang pensiun {pension}\n",
    "            \\nJumlah lansia {elderly}'\n",
    "\n",
    "count_nik(list_nik)"
   ]
  },
  {
   "cell_type": "markdown",
   "metadata": {
    "id": "ci04gtb2ZxjF"
   },
   "source": [
    "## Question No. 2\n",
    "Buatlah sebuah program/fungsi yang dapat melakukan input plat nomor kendaraan sebanyak **N** dengan format:\n",
    "\n",
    "\n",
    "\"X 0000 XXX\" dimana X adalah alfabet uppercase dan 0 adalah numeric \n",
    "\n",
    "EXAMPLE 1\n",
    "\n",
    "Input:\n",
    "\n",
    "> 5\n",
    "\n",
    "Output:\n",
    "\n",
    "> ['P 9350 HZF', 'G 1872 VGW', 'Z 6250 LMH', 'F 3142 JVH', 'S 4643 BSF']"
   ]
  },
  {
   "cell_type": "markdown",
   "metadata": {
    "id": "ioPaOPNjZ02d"
   },
   "source": [
    "### Code"
   ]
  },
  {
   "cell_type": "code",
   "execution_count": 52,
   "metadata": {
    "id": "1d7dN9VwZ2dK"
   },
   "outputs": [],
   "source": [
    "import random\n",
    "\n",
    "def n_plat(x):\n",
    "    l = []\n",
    "    letter = \"ABCDEFGHIJKLMNOPQRSTUVWXYZ\"\n",
    "    for i in range(int(x)):\n",
    "        n = random.randint(1111,9999) #merandom 4 angka di tengah\n",
    "        d = random.choice(letter) #merandom huruf didepan angka\n",
    "        b1 = random.choice(letter) #merandom huruf ketiga dari belakang\n",
    "        b2 = random.choice(letter) #merandom huruf kedua dari belakang\n",
    "        b3 = random.choice(letter) #merandom huruf terakhir\n",
    "\n",
    "        l.append(d + \" \" + str(n) + \" \" + b1 + b2 + b3) #menggabungkan hasil random dan memasukkannya ke dalam list\n",
    "\n",
    "    return l"
   ]
  },
  {
   "cell_type": "code",
   "execution_count": 100,
   "metadata": {},
   "outputs": [
    {
     "data": {
      "text/plain": [
       "['Y 8801 SPU', 'B 8186 ETS', 'B 4005 JFC', 'W 2854 YGQ', 'E 9314 DRJ']"
      ]
     },
     "execution_count": 100,
     "metadata": {},
     "output_type": "execute_result"
    }
   ],
   "source": [
    "n_plat(5)"
   ]
  },
  {
   "cell_type": "markdown",
   "metadata": {
    "id": "9Mn5VEZuZ3Q0"
   },
   "source": [
    "## Bonus Question No. 2\n",
    "\n",
    "Buat sebuah fungsi yang dapat membedakan No plat hasil dari program kalian sebelumnya untuk dibedakan Ganjil dan Genap\n",
    "\n",
    "EXAMPLE 1\n",
    "\n",
    "Input:\n",
    "\n",
    "> 'B 6127 UUZ'\n",
    "\n",
    "Output:\n",
    "\n",
    "> B 6127 UUZ merupakan Plat Ganjil"
   ]
  },
  {
   "cell_type": "markdown",
   "metadata": {
    "id": "hGhhDn5ZZ606"
   },
   "source": [
    "### Code"
   ]
  },
  {
   "cell_type": "code",
   "execution_count": 17,
   "metadata": {
    "id": "UyBdXDUAZ8Sn"
   },
   "outputs": [],
   "source": [
    "def ganjil_genap(y):\n",
    "    #ekstrak plat nomor dari kode sebelumnya\n",
    "    for j in y:\n",
    "        #menentukan plat ganjil atau genap\n",
    "        if int(j[2:6]) % 2 == 0:\n",
    "            print(j, \"merupakan Plat Genap\")\n",
    "        else:\n",
    "            print(j, \"merupakan Plat Ganjil\")"
   ]
  },
  {
   "cell_type": "code",
   "execution_count": 18,
   "metadata": {},
   "outputs": [
    {
     "name": "stdout",
     "output_type": "stream",
     "text": [
      "E 6013 EXU merupakan Plat Ganjil\n",
      "D 8408 YLI merupakan Plat Genap\n",
      "I 8358 HOQ merupakan Plat Genap\n",
      "Y 6370 LNZ merupakan Plat Genap\n",
      "H 9802 QHX merupakan Plat Genap\n"
     ]
    }
   ],
   "source": [
    "ganjil_genap(n_plat(5))"
   ]
  }
 ],
 "metadata": {
  "colab": {
   "provenance": []
  },
  "kernelspec": {
   "display_name": "Python 3 (ipykernel)",
   "language": "python",
   "name": "python3"
  },
  "language_info": {
   "codemirror_mode": {
    "name": "ipython",
    "version": 3
   },
   "file_extension": ".py",
   "mimetype": "text/x-python",
   "name": "python",
   "nbconvert_exporter": "python",
   "pygments_lexer": "ipython3",
   "version": "3.9.13"
  }
 },
 "nbformat": 4,
 "nbformat_minor": 1
}
